{
 "cells": [
  {
   "cell_type": "code",
   "execution_count": 1,
   "id": "09de003a",
   "metadata": {},
   "outputs": [],
   "source": [
    "import pandas as pd\n",
    "pd.set_option(\"display.max_columns\", None)\n",
    "import seaborn as sns\n",
    "import matplotlib.pyplot as plt"
   ]
  },
  {
   "cell_type": "code",
   "execution_count": 2,
   "id": "51f5d53d",
   "metadata": {},
   "outputs": [],
   "source": [
    "housing = 'data/housing_indicators.csv'\n",
    "monthly = 'data/monthly_indicators.csv'"
   ]
  },
  {
   "cell_type": "code",
   "execution_count": 3,
   "id": "3d4e58a6",
   "metadata": {},
   "outputs": [],
   "source": [
    "def get_data(file_name):\n",
    "    '''\n",
    "    \n",
    "    '''\n",
    "    \n",
    "    return pd.read_csv(file_name)"
   ]
  },
  {
   "cell_type": "code",
   "execution_count": 68,
   "id": "a73adf85",
   "metadata": {},
   "outputs": [],
   "source": [
    "def merge_data(df1, df2):\n",
    "    '''\n",
    "    \n",
    "    '''\n",
    "    df = df1.merge(df2)\n",
    "    df.columns = df.columns.str.lower()\n",
    "    df = df[['date', 'house_price_index', 'house_supply',\\\n",
    "       'mortgage_rate', 'employment_rate', 'stock_price_index', 'unemployment_rate']]\n",
    "    df = df.iloc[:, [0, 1, 3, 4, 6, 7, 8]].iloc[:-1]\n",
    "    \n",
    "    print(f'Columns: {df.columns.to_list()}')\n",
    "    \n",
    "    return df"
   ]
  },
  {
   "cell_type": "code",
   "execution_count": 69,
   "id": "58a2734c",
   "metadata": {},
   "outputs": [
    {
     "name": "stdout",
     "output_type": "stream",
     "text": [
      "Columns: ['date', 'house_price_index', 'house_supply', 'mortgage_rate', 'employment_rate', 'stock_price_index', 'unemployment_rate']\n"
     ]
    },
    {
     "data": {
      "text/html": [
       "<div>\n",
       "<style scoped>\n",
       "    .dataframe tbody tr th:only-of-type {\n",
       "        vertical-align: middle;\n",
       "    }\n",
       "\n",
       "    .dataframe tbody tr th {\n",
       "        vertical-align: top;\n",
       "    }\n",
       "\n",
       "    .dataframe thead th {\n",
       "        text-align: right;\n",
       "    }\n",
       "</style>\n",
       "<table border=\"1\" class=\"dataframe\">\n",
       "  <thead>\n",
       "    <tr style=\"text-align: right;\">\n",
       "      <th></th>\n",
       "      <th>date</th>\n",
       "      <th>house_price_index</th>\n",
       "      <th>house_supply</th>\n",
       "      <th>mortgage_rate</th>\n",
       "      <th>employment_rate</th>\n",
       "      <th>stock_price_index</th>\n",
       "      <th>unemployment_rate</th>\n",
       "    </tr>\n",
       "  </thead>\n",
       "  <tbody>\n",
       "    <tr>\n",
       "      <th>20</th>\n",
       "      <td>1988-09-01</td>\n",
       "      <td>72.24</td>\n",
       "      <td>6.5</td>\n",
       "      <td>10.48</td>\n",
       "      <td>71.812109</td>\n",
       "      <td>15.00061</td>\n",
       "      <td>5.4</td>\n",
       "    </tr>\n",
       "  </tbody>\n",
       "</table>\n",
       "</div>"
      ],
      "text/plain": [
       "          date  house_price_index  house_supply  mortgage_rate  \\\n",
       "20  1988-09-01              72.24           6.5          10.48   \n",
       "\n",
       "    employment_rate  stock_price_index  unemployment_rate  \n",
       "20        71.812109           15.00061                5.4  "
      ]
     },
     "execution_count": 69,
     "metadata": {},
     "output_type": "execute_result"
    }
   ],
   "source": [
    "df = merge_data(get_data(housing), get_data(monthly))\n",
    "df.sample()"
   ]
  },
  {
   "cell_type": "markdown",
   "id": "490055ec",
   "metadata": {},
   "source": [
    "## Adding recession data\n",
    "Source: [Wikipedia](https://en.wikipedia.org/wiki/List_of_recessions_in_the_United_States#Great_Depression_onward_(1929%E2%80%93present))"
   ]
  },
  {
   "cell_type": "code",
   "execution_count": 67,
   "id": "82bb2dd3",
   "metadata": {},
   "outputs": [],
   "source": [
    "# early 90s --------> 1990-07-01 to 1991-03-01\n",
    "\n",
    "# early 00s --------> 2001-03-01 to 2001-11-01\n",
    "\n",
    "# great recession --> 2007-12-01 to 2009-06-01\n",
    "\n",
    "# covid recession --> 2020-02-01 to 2020-04-01"
   ]
  },
  {
   "cell_type": "code",
   "execution_count": 70,
   "id": "8ea7af49",
   "metadata": {
    "scrolled": true
   },
   "outputs": [
    {
     "data": {
      "text/html": [
       "<div>\n",
       "<style scoped>\n",
       "    .dataframe tbody tr th:only-of-type {\n",
       "        vertical-align: middle;\n",
       "    }\n",
       "\n",
       "    .dataframe tbody tr th {\n",
       "        vertical-align: top;\n",
       "    }\n",
       "\n",
       "    .dataframe thead th {\n",
       "        text-align: right;\n",
       "    }\n",
       "</style>\n",
       "<table border=\"1\" class=\"dataframe\">\n",
       "  <thead>\n",
       "    <tr style=\"text-align: right;\">\n",
       "      <th></th>\n",
       "      <th>date</th>\n",
       "      <th>house_price_index</th>\n",
       "      <th>house_supply</th>\n",
       "      <th>mortgage_rate</th>\n",
       "      <th>employment_rate</th>\n",
       "      <th>stock_price_index</th>\n",
       "      <th>unemployment_rate</th>\n",
       "      <th>recession</th>\n",
       "    </tr>\n",
       "  </thead>\n",
       "  <tbody>\n",
       "    <tr>\n",
       "      <th>0</th>\n",
       "      <td>1987-01-01</td>\n",
       "      <td>63.965</td>\n",
       "      <td>6.0</td>\n",
       "      <td>9.2040</td>\n",
       "      <td>70.163085</td>\n",
       "      <td>14.97068</td>\n",
       "      <td>6.6</td>\n",
       "      <td>noRecession</td>\n",
       "    </tr>\n",
       "    <tr>\n",
       "      <th>1</th>\n",
       "      <td>1987-02-01</td>\n",
       "      <td>64.424</td>\n",
       "      <td>6.2</td>\n",
       "      <td>9.0825</td>\n",
       "      <td>70.289205</td>\n",
       "      <td>15.86818</td>\n",
       "      <td>6.6</td>\n",
       "      <td>noRecession</td>\n",
       "    </tr>\n",
       "    <tr>\n",
       "      <th>2</th>\n",
       "      <td>1987-03-01</td>\n",
       "      <td>64.735</td>\n",
       "      <td>6.0</td>\n",
       "      <td>9.0350</td>\n",
       "      <td>70.321678</td>\n",
       "      <td>16.48206</td>\n",
       "      <td>6.6</td>\n",
       "      <td>noRecession</td>\n",
       "    </tr>\n",
       "    <tr>\n",
       "      <th>3</th>\n",
       "      <td>1987-04-01</td>\n",
       "      <td>65.132</td>\n",
       "      <td>6.0</td>\n",
       "      <td>9.8325</td>\n",
       "      <td>70.499062</td>\n",
       "      <td>16.22884</td>\n",
       "      <td>6.3</td>\n",
       "      <td>noRecession</td>\n",
       "    </tr>\n",
       "    <tr>\n",
       "      <th>4</th>\n",
       "      <td>1987-05-01</td>\n",
       "      <td>65.565</td>\n",
       "      <td>6.7</td>\n",
       "      <td>10.5960</td>\n",
       "      <td>70.808308</td>\n",
       "      <td>16.14232</td>\n",
       "      <td>6.3</td>\n",
       "      <td>noRecession</td>\n",
       "    </tr>\n",
       "    <tr>\n",
       "      <th>...</th>\n",
       "      <td>...</td>\n",
       "      <td>...</td>\n",
       "      <td>...</td>\n",
       "      <td>...</td>\n",
       "      <td>...</td>\n",
       "      <td>...</td>\n",
       "      <td>...</td>\n",
       "      <td>...</td>\n",
       "    </tr>\n",
       "    <tr>\n",
       "      <th>417</th>\n",
       "      <td>2021-10-01</td>\n",
       "      <td>273.154</td>\n",
       "      <td>6.9</td>\n",
       "      <td>3.0675</td>\n",
       "      <td>70.134363</td>\n",
       "      <td>156.85410</td>\n",
       "      <td>4.6</td>\n",
       "      <td>noRecession</td>\n",
       "    </tr>\n",
       "    <tr>\n",
       "      <th>418</th>\n",
       "      <td>2021-11-01</td>\n",
       "      <td>276.429</td>\n",
       "      <td>6.2</td>\n",
       "      <td>3.0675</td>\n",
       "      <td>70.587317</td>\n",
       "      <td>159.94283</td>\n",
       "      <td>4.2</td>\n",
       "      <td>noRecession</td>\n",
       "    </tr>\n",
       "    <tr>\n",
       "      <th>419</th>\n",
       "      <td>2021-12-01</td>\n",
       "      <td>280.190</td>\n",
       "      <td>5.6</td>\n",
       "      <td>3.0980</td>\n",
       "      <td>70.799610</td>\n",
       "      <td>157.33822</td>\n",
       "      <td>3.9</td>\n",
       "      <td>noRecession</td>\n",
       "    </tr>\n",
       "    <tr>\n",
       "      <th>420</th>\n",
       "      <td>2022-01-01</td>\n",
       "      <td>284.767</td>\n",
       "      <td>5.7</td>\n",
       "      <td>3.4450</td>\n",
       "      <td>70.748899</td>\n",
       "      <td>158.10031</td>\n",
       "      <td>4.0</td>\n",
       "      <td>noRecession</td>\n",
       "    </tr>\n",
       "    <tr>\n",
       "      <th>421</th>\n",
       "      <td>2022-02-01</td>\n",
       "      <td>290.371</td>\n",
       "      <td>6.0</td>\n",
       "      <td>3.7625</td>\n",
       "      <td>70.890307</td>\n",
       "      <td>155.27345</td>\n",
       "      <td>3.8</td>\n",
       "      <td>noRecession</td>\n",
       "    </tr>\n",
       "  </tbody>\n",
       "</table>\n",
       "<p>422 rows × 8 columns</p>\n",
       "</div>"
      ],
      "text/plain": [
       "           date  house_price_index  house_supply  mortgage_rate  \\\n",
       "0    1987-01-01             63.965           6.0         9.2040   \n",
       "1    1987-02-01             64.424           6.2         9.0825   \n",
       "2    1987-03-01             64.735           6.0         9.0350   \n",
       "3    1987-04-01             65.132           6.0         9.8325   \n",
       "4    1987-05-01             65.565           6.7        10.5960   \n",
       "..          ...                ...           ...            ...   \n",
       "417  2021-10-01            273.154           6.9         3.0675   \n",
       "418  2021-11-01            276.429           6.2         3.0675   \n",
       "419  2021-12-01            280.190           5.6         3.0980   \n",
       "420  2022-01-01            284.767           5.7         3.4450   \n",
       "421  2022-02-01            290.371           6.0         3.7625   \n",
       "\n",
       "     employment_rate  stock_price_index  unemployment_rate    recession  \n",
       "0          70.163085           14.97068                6.6  noRecession  \n",
       "1          70.289205           15.86818                6.6  noRecession  \n",
       "2          70.321678           16.48206                6.6  noRecession  \n",
       "3          70.499062           16.22884                6.3  noRecession  \n",
       "4          70.808308           16.14232                6.3  noRecession  \n",
       "..               ...                ...                ...          ...  \n",
       "417        70.134363          156.85410                4.6  noRecession  \n",
       "418        70.587317          159.94283                4.2  noRecession  \n",
       "419        70.799610          157.33822                3.9  noRecession  \n",
       "420        70.748899          158.10031                4.0  noRecession  \n",
       "421        70.890307          155.27345                3.8  noRecession  \n",
       "\n",
       "[422 rows x 8 columns]"
      ]
     },
     "execution_count": 70,
     "metadata": {},
     "output_type": "execute_result"
    }
   ],
   "source": [
    "recession = []\n",
    "\n",
    "for date in df.date:\n",
    "    if '1991-03-01' >= date >= '1990-07-01':\n",
    "        recession.append('early90s')\n",
    "        \n",
    "    elif '2001-11-01' >= date >= '2001-03-01':\n",
    "        recession.append('early00s')\n",
    "        \n",
    "    elif '2009-06-01' >= date >= '2007-12-01':\n",
    "        recession.append('greatRecession')\n",
    "        \n",
    "    elif '2020-04-01' >= date >= '2020-02-01':\n",
    "        recession.append('greatRecession')\n",
    "        \n",
    "    else:\n",
    "        recession.append('noRecession')\n",
    "        \n",
    "df['recession'] = recession\n",
    "df"
   ]
  },
  {
   "cell_type": "code",
   "execution_count": 71,
   "id": "ac0aec65",
   "metadata": {},
   "outputs": [
    {
     "data": {
      "text/plain": [
       "date                 0\n",
       "house_price_index    0\n",
       "house_supply         0\n",
       "mortgage_rate        0\n",
       "employment_rate      0\n",
       "stock_price_index    0\n",
       "unemployment_rate    0\n",
       "recession            0\n",
       "dtype: int64"
      ]
     },
     "execution_count": 71,
     "metadata": {},
     "output_type": "execute_result"
    }
   ],
   "source": [
    "df.isna().sum()"
   ]
  },
  {
   "cell_type": "code",
   "execution_count": 72,
   "id": "895c666e",
   "metadata": {},
   "outputs": [
    {
     "name": "stdout",
     "output_type": "stream",
     "text": [
      "<class 'pandas.core.frame.DataFrame'>\n",
      "Int64Index: 422 entries, 0 to 421\n",
      "Data columns (total 8 columns):\n",
      " #   Column             Non-Null Count  Dtype  \n",
      "---  ------             --------------  -----  \n",
      " 0   date               422 non-null    object \n",
      " 1   house_price_index  422 non-null    float64\n",
      " 2   house_supply       422 non-null    float64\n",
      " 3   mortgage_rate      422 non-null    float64\n",
      " 4   employment_rate    422 non-null    float64\n",
      " 5   stock_price_index  422 non-null    float64\n",
      " 6   unemployment_rate  422 non-null    float64\n",
      " 7   recession          422 non-null    object \n",
      "dtypes: float64(6), object(2)\n",
      "memory usage: 29.7+ KB\n"
     ]
    }
   ],
   "source": [
    "df.info()"
   ]
  },
  {
   "cell_type": "markdown",
   "id": "37db2279",
   "metadata": {},
   "source": [
    "## Distributions of Numeric Variables"
   ]
  },
  {
   "cell_type": "code",
   "execution_count": 93,
   "id": "163e7260",
   "metadata": {},
   "outputs": [
    {
     "data": {
      "text/plain": [
       "array([[<AxesSubplot:title={'center':'house_price_index'}>,\n",
       "        <AxesSubplot:title={'center':'house_supply'}>,\n",
       "        <AxesSubplot:title={'center':'mortgage_rate'}>],\n",
       "       [<AxesSubplot:title={'center':'employment_rate'}>,\n",
       "        <AxesSubplot:title={'center':'stock_price_index'}>,\n",
       "        <AxesSubplot:title={'center':'unemployment_rate'}>]], dtype=object)"
      ]
     },
     "execution_count": 93,
     "metadata": {},
     "output_type": "execute_result"
    },
    {
     "data": {
      "image/png": "[encoded data removed]",
      "text/plain": [
       "<Figure size 1296x576 with 6 Axes>"
      ]
     },
     "metadata": {
      "needs_background": "light"
     },
     "output_type": "display_data"
    }
   ],
   "source": [
    "df.hist(figsize = (18, 8), layout = (2, 3), grid = False)"
   ]
  },
  {
   "cell_type": "code",
   "execution_count": null,
   "id": "c92c9909",
   "metadata": {},
   "outputs": [],
   "source": []
  },
  {
   "cell_type": "markdown",
   "id": "7efa28bb",
   "metadata": {},
   "source": [
    "## Distributions of nonNumeric Variables\n",
    "`recession`"
   ]
  },
  {
   "cell_type": "code",
   "execution_count": 79,
   "id": "554f886d",
   "metadata": {},
   "outputs": [
    {
     "data": {
      "text/plain": [
       "<AxesSubplot:>"
      ]
     },
     "execution_count": 79,
     "metadata": {},
     "output_type": "execute_result"
    },
    {
     "data": {
      "image/png": "[encoded data removed]",
      "text/plain": [
       "<Figure size 432x288 with 1 Axes>"
      ]
     },
     "metadata": {
      "needs_background": "light"
     },
     "output_type": "display_data"
    }
   ],
   "source": [
    "df.recession.value_counts(normalize = True).plot.barh()"
   ]
  },
  {
   "cell_type": "code",
   "execution_count": null,
   "id": "6dad1ba1",
   "metadata": {},
   "outputs": [],
   "source": []
  }
 ],
 "metadata": {
  "kernelspec": {
   "display_name": "Python 3",
   "language": "python",
   "name": "python3"
  },
  "language_info": {
   "codemirror_mode": {
    "name": "ipython",
    "version": 3
   },
   "file_extension": ".py",
   "mimetype": "text/x-python",
   "name": "python",
   "nbconvert_exporter": "python",
   "pygments_lexer": "ipython3",
   "version": "3.8.8"
  }
 },
 "nbformat": 4,
 "nbformat_minor": 5
}
